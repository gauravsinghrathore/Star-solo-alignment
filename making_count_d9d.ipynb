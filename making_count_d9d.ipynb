{
 "cells": [
  {
   "cell_type": "code",
   "execution_count": 1,
   "metadata": {},
   "outputs": [
    {
     "data": {
      "text/plain": [
       "<scanpy._settings.ScanpyConfig at 0x7f59de91be90>"
      ]
     },
     "execution_count": 1,
     "metadata": {},
     "output_type": "execute_result"
    }
   ],
   "source": [
    "import os\n",
    "os.environ[\"MKL_NUM_THREADS\"] = \"50\"\n",
    "os.environ[\"NUMEXPR_NUM_THREADS\"] = \"50\"\n",
    "os.environ[\"OMP_NUM_THREADS\"] = \"50\"\n",
    "\n",
    "import scanpy as sc\n",
    "import scvelo as scv\n",
    "import pandas as pd\n",
    "import numpy as np\n",
    "import scanpy.external as sce\n",
    "\n",
    "%matplotlib inline\n",
    "from matplotlib import pyplot as plt\n",
    "\n",
    "pd.set_option('display.max_rows', None)\n",
    "pd.set_option('display.max_columns', None)\n",
    "sc.set_figure_params(dpi = 250, dpi_save = 250, format = 'png')\n",
    "sc._settings.ScanpyConfig(verbosity=0)\n",
    "\n",
    "#scv.settings.presenter_view = True  # set max width size for presenter view\n",
    "#scv.set_figure_params('scvelo')"
   ]
  },
  {
   "cell_type": "code",
   "execution_count": 2,
   "metadata": {},
   "outputs": [],
   "source": [
    "import anndata\n",
    "from scipy import sparse\n",
    "##### the function is sourced from https://github.com/alexdobin/STAR/issues/774\n",
    "def buildAnndataFromStarCurr(path):\n",
    "    \"\"\"Generate an anndata object from the STAR aligner output folder\"\"\"\n",
    "    path=path\n",
    "    # Load Read Counts\n",
    "    X = sc.read_mtx(path+'Gene/raw/matrix.mtx')\n",
    "\n",
    "    # Transpose counts matrix to have Cells as rows and Genes as cols as expected by AnnData objects\n",
    "    X = X.X.transpose()\n",
    "\n",
    "    # Load the 3 matrices containing Spliced, Unspliced and Ambigous reads\n",
    "    mtxU = np.loadtxt(path+'Velocyto/raw/unspliced.mtx', skiprows=3, delimiter=' ')\n",
    "    mtxS = np.loadtxt(path+'Velocyto/raw/spliced.mtx', skiprows=3, delimiter=' ')\n",
    "    mtxA = np.loadtxt(path+'Velocyto/raw/ambiguous.mtx', skiprows=3, delimiter=' ')\n",
    "\n",
    "    # Extract sparse matrix shape informations from the third row\n",
    "    shapeU = np.loadtxt(path+'Velocyto/raw/unspliced.mtx', skiprows=2, max_rows = 1 ,delimiter=' ')[0:2].astype(int)\n",
    "    shapeS = np.loadtxt(path+'Velocyto/raw/spliced.mtx', skiprows=2, max_rows = 1 ,delimiter=' ')[0:2].astype(int)\n",
    "    shapeA = np.loadtxt(path+'Velocyto/raw/ambiguous.mtx', skiprows=2, max_rows = 1 ,delimiter=' ')[0:2].astype(int)\n",
    "\n",
    "    # Read the sparse matrix with csr_matrix((data, (row_ind, col_ind)), shape=(M, N))\n",
    "    # Subract -1 to rows and cols index because csr_matrix expects a 0 based index\n",
    "    # Traspose counts matrix to have Cells as rows and Genes as cols as expected by AnnData objects\n",
    "\n",
    "    spliced = sparse.csr_matrix((mtxS[:,2], (mtxS[:,0]-1, mtxS[:,1]-1)), shape = shapeS).transpose()\n",
    "    unspliced = sparse.csr_matrix((mtxU[:,2], (mtxU[:,0]-1, mtxU[:,1]-1)), shape = shapeU).transpose()\n",
    "    ambiguous = sparse.csr_matrix((mtxA[:,2], (mtxA[:,0]-1, mtxA[:,1]-1)), shape = shapeA).transpose()\n",
    "\n",
    "    # Load Genes and Cells identifiers\n",
    "    obs = pd.read_csv(path+'Velocyto/raw/barcodes.tsv',\n",
    "                  header = None, index_col = 0)\n",
    "\n",
    "    # Remove index column name to make it compliant with the anndata format\n",
    "    obs.index.name = None\n",
    "\n",
    "    var = pd.read_csv(path+'Velocyto/raw/features.tsv', sep='\\t',\n",
    "                                    names = ('gene_ids', 'feature_types'), index_col = 1)\n",
    "  \n",
    "    # Build AnnData object to be used with ScanPy and ScVelo\n",
    "    adata = anndata.AnnData(X = X, obs = obs, var = var,\n",
    "                                                 layers = {'spliced': spliced, 'unspliced': unspliced, 'ambiguous': ambiguous})\n",
    "    adata.var_names_make_unique()\n",
    "\n",
    "    # Subset Cells based on STAR filtering\n",
    "    #selected_barcodes = pd.read_csv(path+'Gene/filtered/barcodes.tsv', header = None)\n",
    "    #adata = adata[selected_barcodes[0]]\n",
    "\n",
    "    return adata.copy()"
   ]
  },
  {
   "cell_type": "code",
   "execution_count": 3,
   "metadata": {},
   "outputs": [
    {
     "name": "stderr",
     "output_type": "stream",
     "text": [
      "Variable names are not unique. To make them unique, call `.var_names_make_unique`.\n"
     ]
    }
   ],
   "source": [
    "######### create adata but do not filter yet \n",
    "d9d_velocity = buildAnndataFromStarCurr(\"/nfsdata/data/data-runs/mistr_starsolo/d9d/Solo.out/\")"
   ]
  },
  {
   "cell_type": "code",
   "execution_count": 4,
   "metadata": {},
   "outputs": [
    {
     "data": {
      "text/plain": [
       "AnnData object with n_obs × n_vars = 13449 × 23764\n",
       "    obs: 'orig.ident', 'nCount_RNA', 'nFeature_RNA', 'nCount_HTO', 'nFeature_HTO', 'HTO_maxID', 'HTO_secondID', 'HTO_margin', 'HTO_classification', 'HTO_classification.global', 'hash.ID', 'percent.mt', 'S.Score', 'G2M.Score', 'Phase', 'nCount_SCT', 'nFeature_SCT', 'SCT_snn_res.0.4', 'seurat_clusters', 'day', 'model', 'tissue', 'source'\n",
       "    var: 'features'\n",
       "    obsm: 'X_umap'"
      ]
     },
     "execution_count": 4,
     "metadata": {},
     "output_type": "execute_result"
    }
   ],
   "source": [
    "#########read previously processed cell ranger count and pre processed matrix\n",
    "d9d = sc.read_h5ad(\"/home/kgr851/seurat_data_for_python/velocity/seurat/scvi/d9d/d9d.h5ad\")\n",
    "d9d"
   ]
  },
  {
   "cell_type": "code",
   "execution_count": null,
   "metadata": {},
   "outputs": [],
   "source": [
    "#################now transfer the meta data from original pre processed matrix and filter cells matching the bar codes of original metrices "
   ]
  },
  {
   "cell_type": "code",
   "execution_count": 5,
   "metadata": {},
   "outputs": [
    {
     "data": {
      "text/plain": [
       "AnnData object with n_obs × n_vars = 13449 × 23757\n",
       "    obs: 'orig.ident', 'nCount_RNA', 'nFeature_RNA', 'nCount_HTO', 'nFeature_HTO', 'HTO_maxID', 'HTO_secondID', 'HTO_margin', 'HTO_classification', 'HTO_classification.global', 'hash.ID', 'percent.mt', 'S.Score', 'G2M.Score', 'Phase', 'nCount_SCT', 'nFeature_SCT', 'SCT_snn_res.0.4', 'seurat_clusters', 'day', 'model', 'tissue', 'source', 'initial_size_spliced', 'initial_size_unspliced', 'initial_size'\n",
       "    var: 'highly_variable', 'gene_ids', 'feature_types'\n",
       "    obsm: 'X_umap'\n",
       "    layers: 'spliced', 'unspliced', 'ambiguous'"
      ]
     },
     "execution_count": 5,
     "metadata": {},
     "output_type": "execute_result"
    }
   ],
   "source": [
    "d9d_velocity.var_names_make_unique()\n",
    "d9d = sc.read_h5ad(\"/home/kgr851/seurat_data_for_python/velocity/seurat/scvi/d9d/d9d.h5ad\")\n",
    "hvgs = d9d.var_names\n",
    "metadata = d9d.obs.copy()\n",
    "d9d = d9d.raw.to_adata()\n",
    "d9d.obs = metadata\n",
    "d9d.var_names = d9d.var['_index']\n",
    "del d9d.var['_index']\n",
    "d9d.var['highly_variable'] = False\n",
    "d9d.var.loc[hvgs, 'highly_variable'] = True\n",
    "merged = scv.utils.merge(d9d, d9d_velocity)\n",
    "merged"
   ]
  },
  {
   "cell_type": "code",
   "execution_count": 6,
   "metadata": {},
   "outputs": [
    {
     "name": "stderr",
     "output_type": "stream",
     "text": [
      "... storing 'HTO_maxID' as categorical\n",
      "... storing 'HTO_secondID' as categorical\n",
      "... storing 'HTO_classification' as categorical\n",
      "... storing 'HTO_classification.global' as categorical\n",
      "... storing 'Phase' as categorical\n",
      "... storing 'day' as categorical\n",
      "... storing 'model' as categorical\n",
      "... storing 'tissue' as categorical\n",
      "... storing 'source' as categorical\n",
      "... storing 'feature_types' as categorical\n"
     ]
    }
   ],
   "source": [
    "merged.write(\"/home/kgr851/seurat_data_for_python/velocity/adata/raw/scvi/d9d/d9d.velocity.raw.h5ad\")"
   ]
  },
  {
   "cell_type": "code",
   "execution_count": null,
   "metadata": {},
   "outputs": [],
   "source": []
  },
  {
   "cell_type": "code",
   "execution_count": null,
   "metadata": {},
   "outputs": [],
   "source": []
  },
  {
   "cell_type": "code",
   "execution_count": null,
   "metadata": {},
   "outputs": [],
   "source": []
  },
  {
   "cell_type": "code",
   "execution_count": null,
   "metadata": {},
   "outputs": [],
   "source": []
  }
 ],
 "metadata": {
  "kernelspec": {
   "display_name": "Python [conda env:scanpy-1.5.1]",
   "language": "python",
   "name": "conda-env-scanpy-1.5.1-py"
  },
  "language_info": {
   "codemirror_mode": {
    "name": "ipython",
    "version": 3
   },
   "file_extension": ".py",
   "mimetype": "text/x-python",
   "name": "python",
   "nbconvert_exporter": "python",
   "pygments_lexer": "ipython3",
   "version": "3.7.8"
  }
 },
 "nbformat": 4,
 "nbformat_minor": 4
}
